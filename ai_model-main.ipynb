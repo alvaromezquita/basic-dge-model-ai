{
 "cells": [
  {
   "cell_type": "code",
   "execution_count": 18,
   "metadata": {},
   "outputs": [],
   "source": [
    "# Clearing memory \n",
    "%reset -f \n",
    "\n",
    "# Importing libraries \n",
    "import numpy as np \n",
    "from scipy.optimize import root \n"
   ]
  },
  {
   "cell_type": "code",
   "execution_count": 19,
   "metadata": {},
   "outputs": [],
   "source": [
    "# Parameters of the model\n",
    "beta = 0.99 \n",
    "delta_a = 0.05 \n",
    "delta_k = 0.01 \n",
    "D = 1 \n",
    "phi = 0.75 \n",
    "theta = 1 - phi \n",
    "F = 1 \n",
    "alpha = 0.80 \n",
    "gamma = 0.5\n",
    "sigma = 0.5 \n",
    "Lbar = 1 \n",
    "\n",
    "parameters = np.array([beta,delta_a,delta_k,D,phi,theta,F,alpha,gamma,sigma,Lbar])\n",
    "\n",
    "# Secant method seed \n",
    "Ka_ss_0 = 10 \n",
    "La_ss_0 = 0.5 \n",
    "Kf_ss_0 = 10\n",
    "\n",
    "ss_0 = np.array([Ka_ss_0, La_ss_0, Kf_ss_0]) "
   ]
  },
  {
   "cell_type": "code",
   "execution_count": 20,
   "metadata": {},
   "outputs": [],
   "source": [
    "# Defining equation system of Steady State\n",
    "def ss(seed, param): \n",
    "    # Unpacking parameters\n",
    "    beta,delta_a,delta_k,D,phi,theta,F,alpha,gamma,sigma,Lbar = param \n",
    "\n",
    "    # Unpacking variables\n",
    "    Ka, La, Kf = seed \n",
    "\n",
    "    # Equations cleaning\n",
    "    Lf = Lbar-La \n",
    "    A = D * La**phi * Ka**theta /delta_a \n",
    "    Q = (1-sigma) * Lf**(-gamma) + sigma * A**(-gamma) \n",
    "    Rk = F * (1-alpha) * Kf**(-alpha) * Q**(-alpha/gamma) \n",
    "    W = F * alpha * (1-sigma) * Kf**(1-alpha) * Q**(-alpha/gamma-1) * Lf**(-gamma-1) \n",
    "    Ra = F * alpha * sigma * Kf**(1-alpha) * Q**(-alpha/gamma-1) * A**(-gamma-1) \n",
    "    K = Ka + Kf \n",
    "    C =  F * Kf**(1-alpha) * ((1-sigma) * Lf**(-gamma) + sigma * A**(-gamma))**(-alpha/gamma) - delta_k*K\n",
    "    lambda_ss = 1/C \n",
    "    kappa = lambda_ss/beta - lambda_ss*(1-delta_k) \n",
    "    mu = kappa/(theta * D * La**phi * Ka**(theta-1)) \n",
    "    psi = mu * phi * D * Ka**theta * La**(phi-1) \n",
    "\n",
    "    # Remaining equations \n",
    "    f1 = lambda_ss * (1 - alpha) * F * Kf**(-alpha) * Q**(-alpha/gamma) - kappa\n",
    "    f2 = lambda_ss * alpha * (1 - sigma) * F * Kf**(1 - alpha) * Q**(-alpha/gamma - 1) * Lf**(-gamma - 1) - psi\n",
    "    f3 = alpha * sigma * F * Kf**(1 - alpha) * Q**(-alpha/gamma - 1) * A**(-gamma - 1) - mu/beta + mu * (1 - delta_a)\n",
    "\n",
    "    return np.array([f1,f2,f3])"
   ]
  },
  {
   "cell_type": "code",
   "execution_count": 25,
   "metadata": {},
   "outputs": [],
   "source": [
    "# Computing the solution for Ka, La and Kf\n",
    "solution = root(ss,ss_0,args=(parameters,)) \n",
    "Ka_sol, La_sol, Kf_sol = solution.x \n",
    "\n",
    "# Computing the rest of the variables \n",
    "Lf = Lbar-La_sol \n",
    "A = D * La_sol**phi * Ka_sol**theta /delta_a \n",
    "Q = (1-sigma) * Lf**(-gamma) + sigma * A**(-gamma) \n",
    "Rk = F * (1-alpha) * Kf_sol**(-alpha) * Q**(-alpha/gamma) \n",
    "W = F * alpha * (1-sigma) * Kf_sol**(1-alpha) * Q**(-alpha/gamma-1) * Lf**(-gamma-1) \n",
    "Ra = F * alpha * sigma * Kf_sol**(1-alpha) * Q**(-alpha/gamma-1) * A**(-gamma-1) \n",
    "K = Ka_sol + Kf_sol \n",
    "C =  F * Kf_sol**(1-alpha) * ((1-sigma) * Lf**(-gamma) + sigma * A**(-gamma))**(-alpha/gamma) - delta_k*K\n",
    "lambda_ss = 1/C \n",
    "kappa = lambda_ss/beta - lambda_ss*(1-delta_k) \n",
    "mu = kappa/(theta * D * La_sol**phi * Ka_sol**(theta-1)) \n",
    "psi = mu * phi * D * Ka_sol**theta * La_sol**(phi-1) "
   ]
  }
 ],
 "metadata": {
  "kernelspec": {
   "display_name": "Python 3",
   "language": "python",
   "name": "python3"
  },
  "language_info": {
   "codemirror_mode": {
    "name": "ipython",
    "version": 3
   },
   "file_extension": ".py",
   "mimetype": "text/x-python",
   "name": "python",
   "nbconvert_exporter": "python",
   "pygments_lexer": "ipython3",
   "version": "3.12.3"
  }
 },
 "nbformat": 4,
 "nbformat_minor": 2
}
